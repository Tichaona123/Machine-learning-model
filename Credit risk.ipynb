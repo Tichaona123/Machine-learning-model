{
 "cells": [
  {
   "cell_type": "markdown",
   "id": "a6b34b60-859e-4e92-bbc0-a74c5f20d493",
   "metadata": {},
   "source": [
    "________________________________________________________________________________\r\n",
    "\r\n",
    "# **Group Assignment**\r\n",
    "________________________________________________________________________________"
   ]
  },
  {
   "cell_type": "markdown",
   "id": "5853e2b7-315d-432d-b810-5b8c993fcce7",
   "metadata": {},
   "source": [
    "## The context and understanding the problem"
   ]
  },
  {
   "cell_type": "markdown",
   "id": "2e17183d-30a9-491b-a389-0f2a5464c8d4",
   "metadata": {},
   "source": [
    "- Credit risk is the probability of a financial loss resulting from a borrower's **failure to repay a loan**. In other word it refers to the potential loss that a lender or investor may incur due to the failure of a borrower or counterparty **to fulfill their financial obligations**.\r\n",
    "\r\n",
    "\r\n",
    "\r\n",
    "- Likewise, Imagine you lend $500 to your friend to buy a new phone. Your friend promises to pay you back in a month. However, when the due date arrives, your friend doesn't have the money to repay you. This situation represents credit risk ,the risk that your friend won't be able to fulfill their repayment obligation, resulting in a loss for you as the lender.\r\n",
    "\r\n",
    "- Credit risk encompasses the chance that a lender or investor may not receive the owed principal and interest due to a borrower’s inability to repay a loan also affecting the time value of money\r\n",
    "\r\n",
    "- IFRS 9 is an International Financial Reporting Standard issued in 2018 by the International Accounting Standards Board (IASB) that addresses the accounting for financial instruments. It provides guidance on the classification, measurement, impairment, and hedge accounting of financial instruments, including those related to credit risk. This Standard replaces IAS 39 Financial Instruments : Recognition and Measurement\r\n",
    "\r\n",
    "- It requires entities to use ‘Expected Credit Losses’ (ECLs) to recognize impairment losses on financial assets, while IAS 39 requires entities to use ‘Incurred Losses’. The use of ECLs allows entities to recognize losses earlier and can lead to more timely and accurate recognition of credit losses. This means that the finacial entities has to develop the models that predict the expected losses and make provisions for the losses to cater for credit risk which result from default. This made the calculation of probability of default a crucial component in the financial field.\r\n",
    "\r\n",
    "\r\n",
    "\r\n"
   ]
  },
  {
   "cell_type": "markdown",
   "id": "e9149e76-4e7c-4c78-ac66-6ab98642d40a",
   "metadata": {},
   "source": [
    "### Probability of default  "
   ]
  },
  {
   "cell_type": "markdown",
   "id": "283a6ad1-b8a7-4424-af56-9264ae657bdf",
   "metadata": {},
   "source": [
    "- Refers to the one of the key metric used to identify the creditworthiness of a customer. It helps us to estimate the chances that customer would make payments on time or would remain solvent during the period of mortgage.\r\n",
    "\r\n",
    "- According to Genesis (2018) state that, the probability of default is one of the most important risk parameters estimated in credit institutions, especially banks, and plays a major role in credit risk analysis and management. Given the fact that one of the fundamental activities of banks is granting loans, the banking industry places a great deal of emphasis on credit risk. Also, the probability of default estimates should be unbiased  meaning that the best estimate PD i.e. PD should accurately predict number of defaults. However it is crucial for the financial entities to accurately come up with the correct estimates for the default probabilities to asses the chances of finacial loss so as to cushion for that. This research will implement different classifiers aganist the base line logistic regression model and compare their performance in ability to classify default client and non default client from the given retail dataset."
   ]
  },
  {
   "cell_type": "markdown",
   "id": "7eb75a32-7d85-4c88-8940-bb63e6b21249",
   "metadata": {},
   "source": [
    "## Explanation of Data, Datasource and Features in the data"
   ]
  },
  {
   "cell_type": "markdown",
   "id": "dd33c398-e2e9-4500-bac3-5f875fe341ba",
   "metadata": {},
   "source": [
    "- Historical loan data from one of the Zimbabwe microfinance companies was used to develop the model it spread through one financial year of 2023.\n",
    "- The data consist of **21 columns** , **100 000** entries of loan information and target variable which is the **Loan Status** consist of defaults and non-defaults.\n",
    "- The data was sourced from one of Zimbabwe microfinance companies which their has not disclosed for security reasons on client information.\n",
    "- The data consist  of borrower various features that may impact the probability of default has been selected which are explained below:\r\n",
    "\r\n"
   ]
  },
  {
   "cell_type": "markdown",
   "id": "811b414a-26f3-416d-a7ce-e344224f540c",
   "metadata": {},
   "source": [
    "| Column                         | Description                                                                                                    |\r\n",
    "|--------------------------------:|----------------------------------------------------------------------------------------------------------------|\r\n",
    "| loan_id                        | Unique identifier for each loan application or record.                                                          |\r\n",
    "| gender                         | Borrower's gender, such as \"Male,\" \"Female,\" or \"other\".                                                        |\r\n",
    "| disbursemet_date               | The date the loan was disbursed, stored as a string (e.g., \"YYYY-MM-DD\").                                       |\r\n",
    "| currency                       | Currency of the loan in USD                                                                                     |\r\n",
    "| country                        | Borrower's country of residence.                                                                                |\r\n",
    "| sex                            | Another representation of the borrower's sex, possibly duplicating `gender`.                                    |\r\n",
    "| is_employed                    | Indicates if the borrower is employed (True or False).                                                          |\r\n",
    "| job                            | Borrower's job or profession.                                                                                   |\r\n",
    "| location                       | Borrower's location                                                                                             |\r\n",
    "| loan_amount                    | Amount of the loan disbursed                                                                                    |\r\n",
    "| number_of_defaults             | Number of times the borrower has defaulted on loans in the past.                                                |\r\n",
    "| outstanding_balance            | Remaining balance on the loan                                                                                   |\r\n",
    "| interest_rate                  | Interest rate of the loan.                                                                                      |\r\n",
    "| age                            | Borrower's age in years.                                                                                        |\r\n",
    "| number_of_defaults.1           | Likely a duplicate of number_of_defaults.                                                                       |\r\n",
    "| remaining term                 | Remaining time for loan repayment.                                                                              |\r\n",
    "| salary                         | Borrower's salary.                                                                                              |\r\n",
    "| marital_status                 | Borrower's marital status expressed as \"Single,\" \"Married,\" or \"Divorced.\"                                      |\r\n",
    "| age.1                          | Another representation of age, possibly duplicating age.                                                        |\r\n",
    "| Loan Status                    | Current status of the loan (defaulted or did not default)                                                       |\r\n"
   ]
  },
  {
   "cell_type": "markdown",
   "id": "a3da9100-d292-430b-a689-ded3f00924b1",
   "metadata": {},
   "source": [
    "## Importing libraries"
   ]
  },
  {
   "cell_type": "code",
   "execution_count": 2,
   "id": "3ae2e287-5116-4851-b572-c6899d19aa13",
   "metadata": {},
   "outputs": [],
   "source": [
    "#Data manipulation\n",
    "import pandas as pd\n",
    "import numpy as np\n",
    "\n",
    "#Removing unnecessary warnings\n",
    "import warnings\n",
    "warnings.filterwarnings(\"ignore\")\n",
    "\n",
    "#Exploratory Data Analysis and Plotting\n",
    "import matplotlib\n",
    "import matplotlib.pyplot as plt\n",
    "import seaborn as sns\n",
    "%matplotlib inline\n",
    "plt.style.use('ggplot')\n",
    "sns.set(style=\"white\")\n",
    "\n",
    "\n",
    "#Machine learning\n",
    "from sklearn.model_selection import train_test_split\n",
    "from statsmodels.stats.outliers_influence import variance_inflation_factor\n",
    "import statsmodels.formula.api as smf\n",
    "import statsmodels.api as sm\n",
    "from sklearn.preprocessing import LabelEncoder\n",
    "from sklearn import preprocessing\n",
    "from sklearn.linear_model import LogisticRegression\n",
    "from sklearn.impute import SimpleImputer\n",
    "from sklearn.ensemble import GradientBoostingClassifier\n",
    "from sklearn.ensemble import AdaBoostClassifier\n",
    "from sklearn.ensemble import GradientBoostingClassifier\n",
    "from sklearn.neural_network import MLPClassifier\n",
    "from sklearn.linear_model import LogisticRegression\n",
    "from sklearn.ensemble import RandomForestClassifier\n",
    "from xgboost import XGBClassifier\n",
    "\n",
    "\n",
    "#Saving the model\n",
    "from joblib import dump, load\n",
    "\n",
    "\n",
    "\n",
    "#Model evaluation\n",
    "from sklearn.metrics import classification_report, precision_recall_fscore_support, f1_score\n",
    "from sklearn.metrics import roc_curve, roc_auc_score, accuracy_score\n",
    "from sklearn.metrics import confusion_matrix, precision_recall_curve, brier_score_loss\n",
    "from sklearn.metrics import confusion_matrix, ConfusionMatrixDisplay\n",
    "from sklearn.metrics import accuracy_score, precision_score, recall_score, f1_score\n",
    "from sklearn.metrics import classification_report, precision_recall_fscore_support, f1_score\n",
    "from sklearn.metrics import roc_curve, roc_auc_score, accuracy_score\n",
    "from sklearn.metrics import confusion_matrix, precision_recall_curve, brier_score_loss\n",
    "from sklearn.model_selection import StratifiedKFold, cross_val_score\n",
    "from sklearn.model_selection import GridSearchCV, RandomizedSearchCV\n",
    "from sklearn.model_selection import train_test_split"
   ]
  },
  {
   "cell_type": "markdown",
   "id": "28b96556-9be4-43ba-aa57-e52f056a22c4",
   "metadata": {},
   "source": [
    "## Loading data "
   ]
  },
  {
   "cell_type": "markdown",
   "id": "6fc09ab9-ba2c-417f-8e5e-094d6f0f3310",
   "metadata": {},
   "source": [
    "#Connecting the google drive and the colab notebook\n",
    "from google.colab import drive\n",
    "drive.mount('/content/drive')"
   ]
  },
  {
   "cell_type": "markdown",
   "id": "df2a8a14-0f60-41ec-86c8-36b731c9c1aa",
   "metadata": {},
   "source": [
    "#Loading data\n",
    "df = pd.read_csv(\\path of dataset from drive)"
   ]
  },
  {
   "cell_type": "code",
   "execution_count": 3,
   "id": "c7c6eed3-b153-477c-b725-19681bf0be7d",
   "metadata": {},
   "outputs": [],
   "source": [
    "df = pd. read_csv('credit risk zimbabwe.csv')"
   ]
  },
  {
   "cell_type": "markdown",
   "id": "a33a41ac-f66a-4249-89b2-e846576ed92d",
   "metadata": {},
   "source": [
    "## Data Preprocessing"
   ]
  },
  {
   "cell_type": "code",
   "execution_count": 4,
   "id": "b620cf0e-c0f3-42da-9f1e-353c189a21e0",
   "metadata": {},
   "outputs": [],
   "source": [
    "#Loading the first five rows in the data\n",
    "df."
   ]
  },
  {
   "cell_type": "code",
   "execution_count": null,
   "id": "98f3ee6b-c813-4e61-878f-2d290ddb1bc7",
   "metadata": {},
   "outputs": [],
   "source": []
  },
  {
   "cell_type": "code",
   "execution_count": null,
   "id": "f3e74157-fa97-4c0b-858c-02cfc60530e0",
   "metadata": {},
   "outputs": [],
   "source": []
  },
  {
   "cell_type": "code",
   "execution_count": null,
   "id": "9bd13f48-b967-4a66-9729-c12412aae365",
   "metadata": {},
   "outputs": [],
   "source": []
  },
  {
   "cell_type": "code",
   "execution_count": null,
   "id": "63f4b083-3449-4c6f-a8c0-61e23652b8f9",
   "metadata": {},
   "outputs": [],
   "source": []
  }
 ],
 "metadata": {
  "kernelspec": {
   "display_name": "Python 3 (ipykernel)",
   "language": "python",
   "name": "python3"
  },
  "language_info": {
   "codemirror_mode": {
    "name": "ipython",
    "version": 3
   },
   "file_extension": ".py",
   "mimetype": "text/x-python",
   "name": "python",
   "nbconvert_exporter": "python",
   "pygments_lexer": "ipython3",
   "version": "3.12.3"
  }
 },
 "nbformat": 4,
 "nbformat_minor": 5
}
