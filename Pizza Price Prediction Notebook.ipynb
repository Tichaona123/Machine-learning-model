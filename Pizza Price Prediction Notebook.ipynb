{
 "cells": [
  {
   "cell_type": "markdown",
   "id": "dede8952",
   "metadata": {},
   "source": [
    "# 1- Import libraries."
   ]
  },
  {
   "cell_type": "code",
   "execution_count": 1,
   "id": "5f230479",
   "metadata": {},
   "outputs": [],
   "source": [
    "import numpy as np\n",
    "import pandas as pd\n",
    "import matplotlib.pyplot as plt\n",
    "import seaborn as sns"
   ]
  },
  {
   "cell_type": "markdown",
   "id": "d32641b2",
   "metadata": {},
   "source": [
    "-----------\n",
    "# 2- Import pizza dataset."
   ]
  },
  {
   "cell_type": "code",
   "execution_count": 2,
   "id": "ce7d97ec",
   "metadata": {},
   "outputs": [],
   "source": [
    "data = pd.read_csv('D://Pizza Price Prediction/Pizza datase/pizza_v2.csv')"
   ]
  },
  {
   "cell_type": "markdown",
   "id": "4b8dba57",
   "metadata": {},
   "source": [
    "----------\n",
    "# 3- Display top 5 rows of the dataset."
   ]
  },
  {
   "cell_type": "code",
   "execution_count": 3,
   "id": "e41567e9",
   "metadata": {},
   "outputs": [
    {
     "data": {
      "text/html": [
       "<div>\n",
       "<style scoped>\n",
       "    .dataframe tbody tr th:only-of-type {\n",
       "        vertical-align: middle;\n",
       "    }\n",
       "\n",
       "    .dataframe tbody tr th {\n",
       "        vertical-align: top;\n",
       "    }\n",
       "\n",
       "    .dataframe thead th {\n",
       "        text-align: right;\n",
       "    }\n",
       "</style>\n",
       "<table border=\"1\" class=\"dataframe\">\n",
       "  <thead>\n",
       "    <tr style=\"text-align: right;\">\n",
       "      <th></th>\n",
       "      <th>company</th>\n",
       "      <th>price_rupiah</th>\n",
       "      <th>diameter</th>\n",
       "      <th>topping</th>\n",
       "      <th>variant</th>\n",
       "      <th>size</th>\n",
       "      <th>extra_sauce</th>\n",
       "      <th>extra_cheese</th>\n",
       "      <th>extra_mushrooms</th>\n",
       "    </tr>\n",
       "  </thead>\n",
       "  <tbody>\n",
       "    <tr>\n",
       "      <th>0</th>\n",
       "      <td>A</td>\n",
       "      <td>Rp235,000</td>\n",
       "      <td>22 inch</td>\n",
       "      <td>chicken</td>\n",
       "      <td>double_signature</td>\n",
       "      <td>jumbo</td>\n",
       "      <td>yes</td>\n",
       "      <td>yes</td>\n",
       "      <td>no</td>\n",
       "    </tr>\n",
       "    <tr>\n",
       "      <th>1</th>\n",
       "      <td>A</td>\n",
       "      <td>Rp198,000</td>\n",
       "      <td>20 inch</td>\n",
       "      <td>papperoni</td>\n",
       "      <td>double_signature</td>\n",
       "      <td>jumbo</td>\n",
       "      <td>yes</td>\n",
       "      <td>yes</td>\n",
       "      <td>no</td>\n",
       "    </tr>\n",
       "    <tr>\n",
       "      <th>2</th>\n",
       "      <td>A</td>\n",
       "      <td>Rp120,000</td>\n",
       "      <td>16 inch</td>\n",
       "      <td>mushrooms</td>\n",
       "      <td>double_signature</td>\n",
       "      <td>reguler</td>\n",
       "      <td>yes</td>\n",
       "      <td>yes</td>\n",
       "      <td>yes</td>\n",
       "    </tr>\n",
       "    <tr>\n",
       "      <th>3</th>\n",
       "      <td>A</td>\n",
       "      <td>Rp155,000</td>\n",
       "      <td>14 inch</td>\n",
       "      <td>smoked_beef</td>\n",
       "      <td>double_signature</td>\n",
       "      <td>reguler</td>\n",
       "      <td>yes</td>\n",
       "      <td>no</td>\n",
       "      <td>yes</td>\n",
       "    </tr>\n",
       "    <tr>\n",
       "      <th>4</th>\n",
       "      <td>A</td>\n",
       "      <td>Rp248,000</td>\n",
       "      <td>18 inch</td>\n",
       "      <td>mozzarella</td>\n",
       "      <td>double_signature</td>\n",
       "      <td>jumbo</td>\n",
       "      <td>yes</td>\n",
       "      <td>no</td>\n",
       "      <td>yes</td>\n",
       "    </tr>\n",
       "  </tbody>\n",
       "</table>\n",
       "</div>"
      ],
      "text/plain": [
       "  company price_rupiah diameter      topping           variant     size  \\\n",
       "0       A    Rp235,000  22 inch      chicken  double_signature    jumbo   \n",
       "1       A    Rp198,000  20 inch    papperoni  double_signature    jumbo   \n",
       "2       A    Rp120,000  16 inch    mushrooms  double_signature  reguler   \n",
       "3       A    Rp155,000  14 inch  smoked_beef  double_signature  reguler   \n",
       "4       A    Rp248,000  18 inch   mozzarella  double_signature    jumbo   \n",
       "\n",
       "  extra_sauce extra_cheese extra_mushrooms  \n",
       "0         yes          yes              no  \n",
       "1         yes          yes              no  \n",
       "2         yes          yes             yes  \n",
       "3         yes           no             yes  \n",
       "4         yes           no             yes  "
      ]
     },
     "execution_count": 3,
     "metadata": {},
     "output_type": "execute_result"
    }
   ],
   "source": [
    "data.head()"
   ]
  },
  {
   "cell_type": "markdown",
   "id": "d7169425",
   "metadata": {},
   "source": [
    "----------\n",
    "# 4- Display last 5 rows of the dataset."
   ]
  },
  {
   "cell_type": "code",
   "execution_count": 4,
   "id": "2359acb8",
   "metadata": {},
   "outputs": [
    {
     "data": {
      "text/html": [
       "<div>\n",
       "<style scoped>\n",
       "    .dataframe tbody tr th:only-of-type {\n",
       "        vertical-align: middle;\n",
       "    }\n",
       "\n",
       "    .dataframe tbody tr th {\n",
       "        vertical-align: top;\n",
       "    }\n",
       "\n",
       "    .dataframe thead th {\n",
       "        text-align: right;\n",
       "    }\n",
       "</style>\n",
       "<table border=\"1\" class=\"dataframe\">\n",
       "  <thead>\n",
       "    <tr style=\"text-align: right;\">\n",
       "      <th></th>\n",
       "      <th>company</th>\n",
       "      <th>price_rupiah</th>\n",
       "      <th>diameter</th>\n",
       "      <th>topping</th>\n",
       "      <th>variant</th>\n",
       "      <th>size</th>\n",
       "      <th>extra_sauce</th>\n",
       "      <th>extra_cheese</th>\n",
       "      <th>extra_mushrooms</th>\n",
       "    </tr>\n",
       "  </thead>\n",
       "  <tbody>\n",
       "    <tr>\n",
       "      <th>124</th>\n",
       "      <td>E</td>\n",
       "      <td>Rp39,000</td>\n",
       "      <td>8.5 inch</td>\n",
       "      <td>tuna</td>\n",
       "      <td>spicy tuna</td>\n",
       "      <td>small</td>\n",
       "      <td>yes</td>\n",
       "      <td>yes</td>\n",
       "      <td>yes</td>\n",
       "    </tr>\n",
       "    <tr>\n",
       "      <th>125</th>\n",
       "      <td>E</td>\n",
       "      <td>Rp72,000</td>\n",
       "      <td>12 inch</td>\n",
       "      <td>tuna</td>\n",
       "      <td>spicy tuna</td>\n",
       "      <td>medium</td>\n",
       "      <td>yes</td>\n",
       "      <td>yes</td>\n",
       "      <td>yes</td>\n",
       "    </tr>\n",
       "    <tr>\n",
       "      <th>126</th>\n",
       "      <td>E</td>\n",
       "      <td>Rp99,000</td>\n",
       "      <td>14 inch</td>\n",
       "      <td>tuna</td>\n",
       "      <td>spicy tuna</td>\n",
       "      <td>large</td>\n",
       "      <td>yes</td>\n",
       "      <td>yes</td>\n",
       "      <td>yes</td>\n",
       "    </tr>\n",
       "    <tr>\n",
       "      <th>127</th>\n",
       "      <td>E</td>\n",
       "      <td>Rp44,000</td>\n",
       "      <td>8.5 inch</td>\n",
       "      <td>meat</td>\n",
       "      <td>BBQ_meat_fiesta</td>\n",
       "      <td>small</td>\n",
       "      <td>yes</td>\n",
       "      <td>no</td>\n",
       "      <td>yes</td>\n",
       "    </tr>\n",
       "    <tr>\n",
       "      <th>128</th>\n",
       "      <td>E</td>\n",
       "      <td>Rp78,000</td>\n",
       "      <td>12 inch</td>\n",
       "      <td>meat</td>\n",
       "      <td>BBQ_meat_fiesta</td>\n",
       "      <td>medium</td>\n",
       "      <td>no</td>\n",
       "      <td>no</td>\n",
       "      <td>yes</td>\n",
       "    </tr>\n",
       "  </tbody>\n",
       "</table>\n",
       "</div>"
      ],
      "text/plain": [
       "    company price_rupiah  diameter topping          variant    size  \\\n",
       "124       E     Rp39,000  8.5 inch    tuna       spicy tuna   small   \n",
       "125       E     Rp72,000   12 inch    tuna       spicy tuna  medium   \n",
       "126       E     Rp99,000   14 inch    tuna       spicy tuna   large   \n",
       "127       E     Rp44,000  8.5 inch    meat  BBQ_meat_fiesta   small   \n",
       "128       E     Rp78,000   12 inch    meat  BBQ_meat_fiesta  medium   \n",
       "\n",
       "    extra_sauce extra_cheese extra_mushrooms  \n",
       "124         yes          yes             yes  \n",
       "125         yes          yes             yes  \n",
       "126         yes          yes             yes  \n",
       "127         yes           no             yes  \n",
       "128          no           no             yes  "
      ]
     },
     "execution_count": 4,
     "metadata": {},
     "output_type": "execute_result"
    }
   ],
   "source": [
    "data.tail()"
   ]
  },
  {
   "cell_type": "markdown",
   "id": "65e0010c",
   "metadata": {},
   "source": [
    "--------\n",
    "# 5- Find the shape of our dataset."
   ]
  },
  {
   "cell_type": "code",
   "execution_count": 5,
   "id": "ada19f44",
   "metadata": {},
   "outputs": [
    {
     "name": "stdout",
     "output_type": "stream",
     "text": [
      "Number of rows =  129\n",
      "Number of columns =  9\n"
     ]
    }
   ],
   "source": [
    "data.shape\n",
    "print('Number of rows = ',data.shape[0])\n",
    "print('Number of columns = ',data.shape[1])"
   ]
  },
  {
   "cell_type": "markdown",
   "id": "adcfce2f",
   "metadata": {},
   "source": [
    "-----------\n",
    "# 6- Get more informations about our dataset."
   ]
  },
  {
   "cell_type": "code",
   "execution_count": 6,
   "id": "47306f70",
   "metadata": {},
   "outputs": [
    {
     "name": "stdout",
     "output_type": "stream",
     "text": [
      "<class 'pandas.core.frame.DataFrame'>\n",
      "RangeIndex: 129 entries, 0 to 128\n",
      "Data columns (total 9 columns):\n",
      " #   Column           Non-Null Count  Dtype \n",
      "---  ------           --------------  ----- \n",
      " 0   company          129 non-null    object\n",
      " 1   price_rupiah     129 non-null    object\n",
      " 2   diameter         129 non-null    object\n",
      " 3   topping          129 non-null    object\n",
      " 4   variant          129 non-null    object\n",
      " 5   size             129 non-null    object\n",
      " 6   extra_sauce      129 non-null    object\n",
      " 7   extra_cheese     129 non-null    object\n",
      " 8   extra_mushrooms  129 non-null    object\n",
      "dtypes: object(9)\n",
      "memory usage: 9.2+ KB\n"
     ]
    }
   ],
   "source": [
    "data.info()"
   ]
  },
  {
   "cell_type": "markdown",
   "id": "13334174",
   "metadata": {},
   "source": [
    "----------\n",
    "# 7- Get overall statistics of the dataset."
   ]
  },
  {
   "cell_type": "code",
   "execution_count": 7,
   "id": "46cc9c8d",
   "metadata": {},
   "outputs": [
    {
     "data": {
      "text/html": [
       "<div>\n",
       "<style scoped>\n",
       "    .dataframe tbody tr th:only-of-type {\n",
       "        vertical-align: middle;\n",
       "    }\n",
       "\n",
       "    .dataframe tbody tr th {\n",
       "        vertical-align: top;\n",
       "    }\n",
       "\n",
       "    .dataframe thead th {\n",
       "        text-align: right;\n",
       "    }\n",
       "</style>\n",
       "<table border=\"1\" class=\"dataframe\">\n",
       "  <thead>\n",
       "    <tr style=\"text-align: right;\">\n",
       "      <th></th>\n",
       "      <th>company</th>\n",
       "      <th>price_rupiah</th>\n",
       "      <th>diameter</th>\n",
       "      <th>topping</th>\n",
       "      <th>variant</th>\n",
       "      <th>size</th>\n",
       "      <th>extra_sauce</th>\n",
       "      <th>extra_cheese</th>\n",
       "      <th>extra_mushrooms</th>\n",
       "    </tr>\n",
       "  </thead>\n",
       "  <tbody>\n",
       "    <tr>\n",
       "      <th>count</th>\n",
       "      <td>129</td>\n",
       "      <td>129</td>\n",
       "      <td>129</td>\n",
       "      <td>129</td>\n",
       "      <td>129</td>\n",
       "      <td>129</td>\n",
       "      <td>129</td>\n",
       "      <td>129</td>\n",
       "      <td>129</td>\n",
       "    </tr>\n",
       "    <tr>\n",
       "      <th>unique</th>\n",
       "      <td>5</td>\n",
       "      <td>43</td>\n",
       "      <td>12</td>\n",
       "      <td>12</td>\n",
       "      <td>20</td>\n",
       "      <td>6</td>\n",
       "      <td>2</td>\n",
       "      <td>2</td>\n",
       "      <td>2</td>\n",
       "    </tr>\n",
       "    <tr>\n",
       "      <th>top</th>\n",
       "      <td>C</td>\n",
       "      <td>Rp72,000</td>\n",
       "      <td>12 inch</td>\n",
       "      <td>chicken</td>\n",
       "      <td>classic</td>\n",
       "      <td>medium</td>\n",
       "      <td>yes</td>\n",
       "      <td>yes</td>\n",
       "      <td>yes</td>\n",
       "    </tr>\n",
       "    <tr>\n",
       "      <th>freq</th>\n",
       "      <td>30</td>\n",
       "      <td>11</td>\n",
       "      <td>49</td>\n",
       "      <td>29</td>\n",
       "      <td>30</td>\n",
       "      <td>41</td>\n",
       "      <td>76</td>\n",
       "      <td>86</td>\n",
       "      <td>72</td>\n",
       "    </tr>\n",
       "  </tbody>\n",
       "</table>\n",
       "</div>"
      ],
      "text/plain": [
       "       company price_rupiah diameter  topping  variant    size extra_sauce  \\\n",
       "count      129          129      129      129      129     129         129   \n",
       "unique       5           43       12       12       20       6           2   \n",
       "top          C     Rp72,000  12 inch  chicken  classic  medium         yes   \n",
       "freq        30           11       49       29       30      41          76   \n",
       "\n",
       "       extra_cheese extra_mushrooms  \n",
       "count           129             129  \n",
       "unique            2               2  \n",
       "top             yes             yes  \n",
       "freq             86              72  "
      ]
     },
     "execution_count": 7,
     "metadata": {},
     "output_type": "execute_result"
    }
   ],
   "source": [
    "data.describe()"
   ]
  },
  {
   "cell_type": "markdown",
   "id": "dbc523c1",
   "metadata": {},
   "source": [
    "-----------\n",
    "# 8- Check the null values in the dataset."
   ]
  },
  {
   "cell_type": "code",
   "execution_count": 8,
   "id": "3ca9bc40",
   "metadata": {},
   "outputs": [
    {
     "data": {
      "text/plain": [
       "company            0\n",
       "price_rupiah       0\n",
       "diameter           0\n",
       "topping            0\n",
       "variant            0\n",
       "size               0\n",
       "extra_sauce        0\n",
       "extra_cheese       0\n",
       "extra_mushrooms    0\n",
       "dtype: int64"
      ]
     },
     "execution_count": 8,
     "metadata": {},
     "output_type": "execute_result"
    }
   ],
   "source": [
    "data.isnull().sum()"
   ]
  },
  {
   "cell_type": "markdown",
   "id": "5258c98b",
   "metadata": {},
   "source": [
    "###### - We don't have any null values in our dataset."
   ]
  },
  {
   "cell_type": "markdown",
   "id": "563068bb",
   "metadata": {},
   "source": [
    "----------\n",
    "# 9- Data preprocessing."
   ]
  },
  {
   "cell_type": "markdown",
   "id": "17735f0f",
   "metadata": {},
   "source": [
    "### Rename and replace some values."
   ]
  },
  {
   "cell_type": "markdown",
   "id": "316a60ba",
   "metadata": {},
   "source": [
    "###### 1- Rename the price_rupiah column to price."
   ]
  },
  {
   "cell_type": "code",
   "execution_count": 9,
   "id": "ff28d465",
   "metadata": {},
   "outputs": [],
   "source": [
    "data.rename({'price_rupiah':'price'},axis=1,inplace=True)"
   ]
  },
  {
   "cell_type": "markdown",
   "id": "e94ba148",
   "metadata": {},
   "source": [
    "###### 2- Remove Rb from price column values."
   ]
  },
  {
   "cell_type": "code",
   "execution_count": 14,
   "id": "258f5ba7",
   "metadata": {},
   "outputs": [],
   "source": [
    "data['price'] = data['price'].str.replace('Rp','')"
   ]
  },
  {
   "cell_type": "markdown",
   "id": "1873ff7c",
   "metadata": {},
   "source": [
    "###### 3- Remove the comma from price column values."
   ]
  },
  {
   "cell_type": "code",
   "execution_count": 19,
   "id": "593e4635",
   "metadata": {},
   "outputs": [],
   "source": [
    "data['price'] = data['price'].str.replace(',','').astype('int32')"
   ]
  },
  {
   "cell_type": "markdown",
   "id": "43c02b83",
   "metadata": {},
   "source": [
    "###### 4- Remove inch from diameter column values."
   ]
  },
  {
   "cell_type": "code",
   "execution_count": 21,
   "id": "063a4e84",
   "metadata": {},
   "outputs": [],
   "source": [
    "data['diameter'] = data['diameter'].str.replace('inch','').astype('float32')"
   ]
  },
  {
   "cell_type": "markdown",
   "id": "b2e4f46c",
   "metadata": {},
   "source": [
    "----------\n",
    "### Show number of columns values."
   ]
  },
  {
   "cell_type": "markdown",
   "id": "29f585a1",
   "metadata": {},
   "source": [
    "###### 1- Company."
   ]
  },
  {
   "cell_type": "code",
   "execution_count": 25,
   "id": "2d2d0f41",
   "metadata": {},
   "outputs": [
    {
     "data": {
      "text/plain": [
       "C    30\n",
       "E    30\n",
       "A    25\n",
       "B    24\n",
       "D    20\n",
       "Name: company, dtype: int64"
      ]
     },
     "execution_count": 25,
     "metadata": {},
     "output_type": "execute_result"
    }
   ],
   "source": [
    "data['company'].value_counts()"
   ]
  },
  {
   "cell_type": "code",
   "execution_count": 28,
   "id": "44259c5f",
   "metadata": {},
   "outputs": [
    {
     "data": {
      "image/png": "[encoded data removed]",
      "text/plain": [
       "<Figure size 432x288 with 1 Axes>"
      ]
     },
     "metadata": {
      "needs_background": "light"
     },
     "output_type": "display_data"
    }
   ],
   "source": [
    "ax = sns.countplot(x=data['company'])\n",
    "ax.bar_label(ax.containers[0], label_type='edge')\n",
    "plt.show()"
   ]
  },
  {
   "cell_type": "markdown",
   "id": "b118afe4",
   "metadata": {},
   "source": [
    "###### 2- Diameter."
   ]
  },
  {
   "cell_type": "code",
   "execution_count": 30,
   "id": "ffb3ea10",
   "metadata": {},
   "outputs": [
    {
     "data": {
      "text/plain": [
       "12.0    49\n",
       "14.0    24\n",
       "8.5     22\n",
       "17.0    10\n",
       "18.5     6\n",
       "16.0     5\n",
       "8.0      4\n",
       "16.5     4\n",
       "22.0     3\n",
       "20.0     1\n",
       "18.0     1\n",
       "Name: diameter, dtype: int64"
      ]
     },
     "execution_count": 30,
     "metadata": {},
     "output_type": "execute_result"
    }
   ],
   "source": [
    "data['diameter'].value_counts()"
   ]
  },
  {
   "cell_type": "code",
   "execution_count": 33,
   "id": "643e35a7",
   "metadata": {},
   "outputs": [
    {
     "data": {
      "image/png": "[encoded data removed]",
      "text/plain": [
       "<Figure size 504x360 with 1 Axes>"
      ]
     },
     "metadata": {
      "needs_background": "light"
     },
     "output_type": "display_data"
    }
   ],
   "source": [
    "plt.figure(figsize=(7,5))\n",
    "ax = sns.countplot(x=data['diameter'])\n",
    "ax.bar_label(ax.containers[0], label_type='edge')\n",
    "plt.show()"
   ]
  },
  {
   "cell_type": "markdown",
   "id": "e3460a7c",
   "metadata": {},
   "source": [
    "###### 3- Price."
   ]
  },
  {
   "cell_type": "code",
   "execution_count": 36,
   "id": "9bca7b02",
   "metadata": {},
   "outputs": [
    {
     "data": {
      "image/png": "[encoded data removed]",
      "text/plain": [
       "<Figure size 432x288 with 1 Axes>"
      ]
     },
     "metadata": {
      "needs_background": "light"
     },
     "output_type": "display_data"
    }
   ],
   "source": [
    "plt.hist(x=data['price'])\n",
    "plt.title('Price Distribution')\n",
    "plt.show()"
   ]
  },
  {
   "cell_type": "markdown",
   "id": "abd34138",
   "metadata": {},
   "source": [
    "###### 4- Topping."
   ]
  },
  {
   "cell_type": "code",
   "execution_count": 41,
   "id": "9dd5d3e7",
   "metadata": {},
   "outputs": [
    {
     "data": {
      "text/plain": [
       "chicken         29\n",
       "mushrooms       22\n",
       "mozzarella      21\n",
       "smoked_beef     19\n",
       "tuna             9\n",
       "vegetables       9\n",
       "meat             8\n",
       "black_papper     3\n",
       "sausage          3\n",
       "beef             3\n",
       "papperoni        2\n",
       "onion            1\n",
       "Name: topping, dtype: int64"
      ]
     },
     "execution_count": 41,
     "metadata": {},
     "output_type": "execute_result"
    }
   ],
   "source": [
    "data['topping'].value_counts()"
   ]
  },
  {
   "cell_type": "code",
   "execution_count": 53,
   "id": "bcc074fd",
   "metadata": {},
   "outputs": [
    {
     "data": {
      "image/png": "[encoded data removed]",
      "text/plain": [
       "<Figure size 504x360 with 1 Axes>"
      ]
     },
     "metadata": {
      "needs_background": "light"
     },
     "output_type": "display_data"
    }
   ],
   "source": [
    "plt.figure(figsize=(7,5))\n",
    "ax = sns.countplot(y=data['topping'])\n",
    "ax.bar_label(ax.containers[0], label_type='edge')\n",
    "plt.show()"
   ]
  },
  {
   "cell_type": "markdown",
   "id": "6cf37772",
   "metadata": {},
   "source": [
    "###### 5- Variant."
   ]
  },
  {
   "cell_type": "code",
   "execution_count": 54,
   "id": "c66d79e9",
   "metadata": {},
   "outputs": [
    {
     "data": {
      "text/plain": [
       "classic              30\n",
       "meat_lovers          10\n",
       "double_mix           10\n",
       "crunchy              10\n",
       "new_york             10\n",
       "double_decker         9\n",
       "double_signature      5\n",
       "american_favorite     5\n",
       "BBQ_meat_fiesta       5\n",
       "super_supreme         5\n",
       "spicy_tuna            3\n",
       "BBQ_sausage           3\n",
       "extravaganza          3\n",
       "meat_eater            3\n",
       "gournet_greek         3\n",
       "italian_veggie        3\n",
       "thai_veggie           3\n",
       "american_classic      3\n",
       "neptune_tuna          3\n",
       "spicy tuna            3\n",
       "Name: variant, dtype: int64"
      ]
     },
     "execution_count": 54,
     "metadata": {},
     "output_type": "execute_result"
    }
   ],
   "source": [
    "data['variant'].value_counts()"
   ]
  },
  {
   "cell_type": "code",
   "execution_count": 56,
   "id": "493ff99f",
   "metadata": {},
   "outputs": [
    {
     "data": {
      "image/png": "[encoded data removed]",
      "text/plain": [
       "<Figure size 576x432 with 1 Axes>"
      ]
     },
     "metadata": {
      "needs_background": "light"
     },
     "output_type": "display_data"
    }
   ],
   "source": [
    "plt.figure(figsize=(8,6))\n",
    "ax = sns.countplot(y=data['variant'])\n",
    "ax.bar_label(ax.containers[0], label_type='edge')\n",
    "plt.show()"
   ]
  },
  {
   "cell_type": "markdown",
   "id": "5ae2a4dd",
   "metadata": {},
   "source": [
    "###### 6- Size."
   ]
  },
  {
   "cell_type": "code",
   "execution_count": 58,
   "id": "289b8fc5",
   "metadata": {},
   "outputs": [
    {
     "data": {
      "text/plain": [
       "medium     41\n",
       "small      22\n",
       "large      21\n",
       "reguler    20\n",
       "jumbo      15\n",
       "XL         10\n",
       "Name: size, dtype: int64"
      ]
     },
     "execution_count": 58,
     "metadata": {},
     "output_type": "execute_result"
    }
   ],
   "source": [
    "data['size'].value_counts()"
   ]
  },
  {
   "cell_type": "code",
   "execution_count": 59,
   "id": "3d67b133",
   "metadata": {},
   "outputs": [
    {
     "data": {
      "image/png": "[encoded data removed]",
      "text/plain": [
       "<Figure size 432x288 with 1 Axes>"
      ]
     },
     "metadata": {
      "needs_background": "light"
     },
     "output_type": "display_data"
    }
   ],
   "source": [
    "ax = sns.countplot(x=data['size'])\n",
    "ax.bar_label(ax.containers[0], label_type='edge')\n",
    "plt.show()"
   ]
  },
  {
   "cell_type": "markdown",
   "id": "3e8573e6",
   "metadata": {},
   "source": [
    "###### 7- Extra sauce."
   ]
  },
  {
   "cell_type": "code",
   "execution_count": 60,
   "id": "827ce691",
   "metadata": {},
   "outputs": [
    {
     "data": {
      "text/plain": [
       "yes    76\n",
       "no     53\n",
       "Name: extra_sauce, dtype: int64"
      ]
     },
     "execution_count": 60,
     "metadata": {},
     "output_type": "execute_result"
    }
   ],
   "source": [
    "data['extra_sauce'].value_counts()"
   ]
  },
  {
   "cell_type": "code",
   "execution_count": 71,
   "id": "ce605a1f",
   "metadata": {},
   "outputs": [
    {
     "data": {
      "image/png": "[encoded data removed]",
      "text/plain": [
       "<Figure size 432x288 with 1 Axes>"
      ]
     },
     "metadata": {
      "needs_background": "light"
     },
     "output_type": "display_data"
    }
   ],
   "source": [
    "ax = sns.countplot(x=data['extra_sauce'])\n",
    "ax.bar_label(ax.containers[0], label_type='edge')\n",
    "plt.show()"
   ]
  },
  {
   "cell_type": "markdown",
   "id": "29387546",
   "metadata": {},
   "source": [
    "###### 8- Extra cheese."
   ]
  },
  {
   "cell_type": "code",
   "execution_count": 66,
   "id": "7505925f",
   "metadata": {},
   "outputs": [
    {
     "data": {
      "text/plain": [
       "yes    86\n",
       "no     43\n",
       "Name: extra_cheese, dtype: int64"
      ]
     },
     "execution_count": 66,
     "metadata": {},
     "output_type": "execute_result"
    }
   ],
   "source": [
    "data['extra_cheese'].value_counts()"
   ]
  },
  {
   "cell_type": "code",
   "execution_count": 67,
   "id": "40c148d8",
   "metadata": {},
   "outputs": [
    {
     "data": {
      "image/png": "[encoded data removed]",
      "text/plain": [
       "<Figure size 432x288 with 1 Axes>"
      ]
     },
     "metadata": {
      "needs_background": "light"
     },
     "output_type": "display_data"
    }
   ],
   "source": [
    "ax = sns.countplot(x=data['extra_cheese'])\n",
    "ax.bar_label(ax.containers[0], label_type='edge')\n",
    "plt.show()"
   ]
  },
  {
   "cell_type": "markdown",
   "id": "08188c2f",
   "metadata": {},
   "source": [
    "###### 9- Extra mushrooms."
   ]
  },
  {
   "cell_type": "code",
   "execution_count": 68,
   "id": "63fbc010",
   "metadata": {},
   "outputs": [
    {
     "data": {
      "text/plain": [
       "yes    72\n",
       "no     57\n",
       "Name: extra_mushrooms, dtype: int64"
      ]
     },
     "execution_count": 68,
     "metadata": {},
     "output_type": "execute_result"
    }
   ],
   "source": [
    "data['extra_mushrooms'].value_counts()"
   ]
  },
  {
   "cell_type": "code",
   "execution_count": 78,
   "id": "636cc5a8",
   "metadata": {},
   "outputs": [
    {
     "data": {
      "image/png": "[encoded data removed]",
      "text/plain": [
       "<Figure size 432x288 with 1 Axes>"
      ]
     },
     "metadata": {
      "needs_background": "light"
     },
     "output_type": "display_data"
    }
   ],
   "source": [
    "ax = sns.countplot(x=data['extra_mushrooms'])\n",
    "ax.bar_label(ax.containers[0], label_type='edge')\n",
    "plt.show()"
   ]
  },
  {
   "cell_type": "markdown",
   "id": "6f2b7e20",
   "metadata": {},
   "source": [
    "----------\n",
    "# 10- Bivariate ahalysis."
   ]
  },
  {
   "cell_type": "markdown",
   "id": "0e709759",
   "metadata": {},
   "source": [
    "#### 1- Price by Company."
   ]
  },
  {
   "cell_type": "code",
   "execution_count": 83,
   "id": "ad4ae448",
   "metadata": {},
   "outputs": [
    {
     "data": {
      "image/png": "[encoded data removed]",
      "text/plain": [
       "<Figure size 432x288 with 1 Axes>"
      ]
     },
     "metadata": {
      "needs_background": "light"
     },
     "output_type": "display_data"
    }
   ],
   "source": [
    "ax = sns.barplot(x=data['company'],y=data['price'])\n",
    "plt.show()"
   ]
  },
  {
   "cell_type": "markdown",
   "id": "d747bf17",
   "metadata": {},
   "source": [
    "#### 2- Price by Topping."
   ]
  },
  {
   "cell_type": "code",
   "execution_count": 89,
   "id": "6bc9b452",
   "metadata": {},
   "outputs": [
    {
     "data": {
      "image/png": "[encoded data removed]",
      "text/plain": [
       "<Figure size 432x288 with 1 Axes>"
      ]
     },
     "metadata": {
      "needs_background": "light"
     },
     "output_type": "display_data"
    }
   ],
   "source": [
    "sns.boxplot(y=data['topping'],x=data['price'],data=data)\n",
    "plt.show()"
   ]
  },
  {
   "cell_type": "markdown",
   "id": "af017fe0",
   "metadata": {},
   "source": [
    " #### 3- Price by Size."
   ]
  },
  {
   "cell_type": "code",
   "execution_count": 90,
   "id": "c470f3fe",
   "metadata": {},
   "outputs": [
    {
     "data": {
      "image/png": "[encoded data removed]",
      "text/plain": [
       "<Figure size 432x288 with 1 Axes>"
      ]
     },
     "metadata": {
      "needs_background": "light"
     },
     "output_type": "display_data"
    }
   ],
   "source": [
    "sns.boxplot(x=data['size'],y=data['price'])\n",
    "plt.show()"
   ]
  },
  {
   "cell_type": "markdown",
   "id": "98a7a1cd",
   "metadata": {},
   "source": [
    "---------------\n",
    "# 11- Find more information from our dataset."
   ]
  },
  {
   "cell_type": "markdown",
   "id": "e75d5589",
   "metadata": {},
   "source": [
    "#### 1- Find the most expensive pizza."
   ]
  },
  {
   "cell_type": "code",
   "execution_count": 92,
   "id": "47e44957",
   "metadata": {},
   "outputs": [
    {
     "data": {
      "text/html": [
       "<div>\n",
       "<style scoped>\n",
       "    .dataframe tbody tr th:only-of-type {\n",
       "        vertical-align: middle;\n",
       "    }\n",
       "\n",
       "    .dataframe tbody tr th {\n",
       "        vertical-align: top;\n",
       "    }\n",
       "\n",
       "    .dataframe thead th {\n",
       "        text-align: right;\n",
       "    }\n",
       "</style>\n",
       "<table border=\"1\" class=\"dataframe\">\n",
       "  <thead>\n",
       "    <tr style=\"text-align: right;\">\n",
       "      <th></th>\n",
       "      <th>company</th>\n",
       "      <th>price</th>\n",
       "      <th>diameter</th>\n",
       "      <th>topping</th>\n",
       "      <th>variant</th>\n",
       "      <th>size</th>\n",
       "      <th>extra_sauce</th>\n",
       "      <th>extra_cheese</th>\n",
       "      <th>extra_mushrooms</th>\n",
       "    </tr>\n",
       "  </thead>\n",
       "  <tbody>\n",
       "    <tr>\n",
       "      <th>4</th>\n",
       "      <td>A</td>\n",
       "      <td>248000</td>\n",
       "      <td>18.0</td>\n",
       "      <td>mozzarella</td>\n",
       "      <td>double_signature</td>\n",
       "      <td>jumbo</td>\n",
       "      <td>yes</td>\n",
       "      <td>no</td>\n",
       "      <td>yes</td>\n",
       "    </tr>\n",
       "  </tbody>\n",
       "</table>\n",
       "</div>"
      ],
      "text/plain": [
       "  company   price  diameter     topping           variant   size extra_sauce  \\\n",
       "4       A  248000      18.0  mozzarella  double_signature  jumbo         yes   \n",
       "\n",
       "  extra_cheese extra_mushrooms  \n",
       "4           no             yes  "
      ]
     },
     "execution_count": 92,
     "metadata": {},
     "output_type": "execute_result"
    }
   ],
   "source": [
    "data[data['price'].max()==data['price']]"
   ]
  },
  {
   "cell_type": "markdown",
   "id": "cb2eb2cf",
   "metadata": {},
   "source": [
    "#### 2- Find diameter of jumbo size pizza."
   ]
  },
  {
   "cell_type": "code",
   "execution_count": 97,
   "id": "2779410c",
   "metadata": {},
   "outputs": [
    {
     "data": {
      "text/plain": [
       "0    22.0\n",
       "1    20.0\n",
       "4    18.0\n",
       "5    18.5\n",
       "6    16.0\n",
       "Name: diameter, dtype: float32"
      ]
     },
     "execution_count": 97,
     "metadata": {},
     "output_type": "execute_result"
    }
   ],
   "source": [
    "data[data['size']=='jumbo']['diameter'].head()"
   ]
  },
  {
   "cell_type": "markdown",
   "id": "4d54ae91",
   "metadata": {},
   "source": [
    "#### 3- Find diameter of XL size pizza."
   ]
  },
  {
   "cell_type": "code",
   "execution_count": 102,
   "id": "cf610c63",
   "metadata": {},
   "outputs": [
    {
     "data": {
      "text/plain": [
       "29    17.0\n",
       "35    17.0\n",
       "41    17.0\n",
       "47    17.0\n",
       "93    17.0\n",
       "Name: diameter, dtype: float32"
      ]
     },
     "execution_count": 102,
     "metadata": {},
     "output_type": "execute_result"
    }
   ],
   "source": [
    "data[data['size']=='XL']['diameter'].head()"
   ]
  },
  {
   "cell_type": "markdown",
   "id": "0b38505c",
   "metadata": {},
   "source": [
    "#### 4- Remove outliers."
   ]
  },
  {
   "cell_type": "code",
   "execution_count": 103,
   "id": "29845506",
   "metadata": {},
   "outputs": [
    {
     "data": {
      "text/html": [
       "<div>\n",
       "<style scoped>\n",
       "    .dataframe tbody tr th:only-of-type {\n",
       "        vertical-align: middle;\n",
       "    }\n",
       "\n",
       "    .dataframe tbody tr th {\n",
       "        vertical-align: top;\n",
       "    }\n",
       "\n",
       "    .dataframe thead th {\n",
       "        text-align: right;\n",
       "    }\n",
       "</style>\n",
       "<table border=\"1\" class=\"dataframe\">\n",
       "  <thead>\n",
       "    <tr style=\"text-align: right;\">\n",
       "      <th></th>\n",
       "      <th>company</th>\n",
       "      <th>price</th>\n",
       "      <th>diameter</th>\n",
       "      <th>topping</th>\n",
       "      <th>variant</th>\n",
       "      <th>size</th>\n",
       "      <th>extra_sauce</th>\n",
       "      <th>extra_cheese</th>\n",
       "      <th>extra_mushrooms</th>\n",
       "    </tr>\n",
       "  </thead>\n",
       "  <tbody>\n",
       "    <tr>\n",
       "      <th>6</th>\n",
       "      <td>A</td>\n",
       "      <td>110000</td>\n",
       "      <td>16.0</td>\n",
       "      <td>smoked_beef</td>\n",
       "      <td>american_favorite</td>\n",
       "      <td>jumbo</td>\n",
       "      <td>no</td>\n",
       "      <td>yes</td>\n",
       "      <td>yes</td>\n",
       "    </tr>\n",
       "    <tr>\n",
       "      <th>11</th>\n",
       "      <td>A</td>\n",
       "      <td>110000</td>\n",
       "      <td>16.0</td>\n",
       "      <td>black_papper</td>\n",
       "      <td>super_supreme</td>\n",
       "      <td>jumbo</td>\n",
       "      <td>yes</td>\n",
       "      <td>yes</td>\n",
       "      <td>no</td>\n",
       "    </tr>\n",
       "    <tr>\n",
       "      <th>16</th>\n",
       "      <td>A</td>\n",
       "      <td>110000</td>\n",
       "      <td>16.0</td>\n",
       "      <td>smoked_beef</td>\n",
       "      <td>meat_lovers</td>\n",
       "      <td>jumbo</td>\n",
       "      <td>no</td>\n",
       "      <td>yes</td>\n",
       "      <td>yes</td>\n",
       "    </tr>\n",
       "    <tr>\n",
       "      <th>80</th>\n",
       "      <td>D</td>\n",
       "      <td>110000</td>\n",
       "      <td>16.0</td>\n",
       "      <td>smoked_beef</td>\n",
       "      <td>meat_lovers</td>\n",
       "      <td>jumbo</td>\n",
       "      <td>no</td>\n",
       "      <td>yes</td>\n",
       "      <td>no</td>\n",
       "    </tr>\n",
       "  </tbody>\n",
       "</table>\n",
       "</div>"
      ],
      "text/plain": [
       "   company   price  diameter       topping            variant   size  \\\n",
       "6        A  110000      16.0   smoked_beef  american_favorite  jumbo   \n",
       "11       A  110000      16.0  black_papper      super_supreme  jumbo   \n",
       "16       A  110000      16.0   smoked_beef        meat_lovers  jumbo   \n",
       "80       D  110000      16.0   smoked_beef        meat_lovers  jumbo   \n",
       "\n",
       "   extra_sauce extra_cheese extra_mushrooms  \n",
       "6           no          yes             yes  \n",
       "11         yes          yes              no  \n",
       "16          no          yes             yes  \n",
       "80          no          yes              no  "
      ]
     },
     "execution_count": 103,
     "metadata": {},
     "output_type": "execute_result"
    }
   ],
   "source": [
    "data[(data['size']=='jumbo') & (data['diameter']<=16)]"
   ]
  },
  {
   "cell_type": "code",
   "execution_count": 105,
   "id": "7441b25a",
   "metadata": {},
   "outputs": [],
   "source": [
    "data = data.drop(data.index[[6,11,16,80]])"
   ]
  },
  {
   "cell_type": "markdown",
   "id": "c7206b88",
   "metadata": {},
   "source": [
    "------------\n",
    "# 12- Label Encoding."
   ]
  },
  {
   "cell_type": "code",
   "execution_count": 110,
   "id": "983be05a",
   "metadata": {},
   "outputs": [],
   "source": [
    "cat_cols = data.select_dtypes(include=['object']).columns"
   ]
  },
  {
   "cell_type": "code",
   "execution_count": 109,
   "id": "2cba81e4",
   "metadata": {},
   "outputs": [],
   "source": [
    "from sklearn.preprocessing import LabelEncoder"
   ]
  },
  {
   "cell_type": "code",
   "execution_count": 111,
   "id": "324639ef",
   "metadata": {},
   "outputs": [],
   "source": [
    "LE = LabelEncoder()"
   ]
  },
  {
   "cell_type": "code",
   "execution_count": 112,
   "id": "8d6b7286",
   "metadata": {},
   "outputs": [],
   "source": [
    "for col in cat_cols:\n",
    "    data[col] = LE.fit_transform(data[col])"
   ]
  },
  {
   "cell_type": "code",
   "execution_count": 113,
   "id": "a5d43220",
   "metadata": {},
   "outputs": [
    {
     "data": {
      "text/html": [
       "<div>\n",
       "<style scoped>\n",
       "    .dataframe tbody tr th:only-of-type {\n",
       "        vertical-align: middle;\n",
       "    }\n",
       "\n",
       "    .dataframe tbody tr th {\n",
       "        vertical-align: top;\n",
       "    }\n",
       "\n",
       "    .dataframe thead th {\n",
       "        text-align: right;\n",
       "    }\n",
       "</style>\n",
       "<table border=\"1\" class=\"dataframe\">\n",
       "  <thead>\n",
       "    <tr style=\"text-align: right;\">\n",
       "      <th></th>\n",
       "      <th>company</th>\n",
       "      <th>price</th>\n",
       "      <th>diameter</th>\n",
       "      <th>topping</th>\n",
       "      <th>variant</th>\n",
       "      <th>size</th>\n",
       "      <th>extra_sauce</th>\n",
       "      <th>extra_cheese</th>\n",
       "      <th>extra_mushrooms</th>\n",
       "    </tr>\n",
       "  </thead>\n",
       "  <tbody>\n",
       "    <tr>\n",
       "      <th>0</th>\n",
       "      <td>0</td>\n",
       "      <td>235000</td>\n",
       "      <td>22.0</td>\n",
       "      <td>2</td>\n",
       "      <td>8</td>\n",
       "      <td>1</td>\n",
       "      <td>1</td>\n",
       "      <td>1</td>\n",
       "      <td>0</td>\n",
       "    </tr>\n",
       "    <tr>\n",
       "      <th>1</th>\n",
       "      <td>0</td>\n",
       "      <td>198000</td>\n",
       "      <td>20.0</td>\n",
       "      <td>7</td>\n",
       "      <td>8</td>\n",
       "      <td>1</td>\n",
       "      <td>1</td>\n",
       "      <td>1</td>\n",
       "      <td>0</td>\n",
       "    </tr>\n",
       "    <tr>\n",
       "      <th>2</th>\n",
       "      <td>0</td>\n",
       "      <td>120000</td>\n",
       "      <td>16.0</td>\n",
       "      <td>5</td>\n",
       "      <td>8</td>\n",
       "      <td>4</td>\n",
       "      <td>1</td>\n",
       "      <td>1</td>\n",
       "      <td>1</td>\n",
       "    </tr>\n",
       "    <tr>\n",
       "      <th>3</th>\n",
       "      <td>0</td>\n",
       "      <td>155000</td>\n",
       "      <td>14.0</td>\n",
       "      <td>9</td>\n",
       "      <td>8</td>\n",
       "      <td>4</td>\n",
       "      <td>1</td>\n",
       "      <td>0</td>\n",
       "      <td>1</td>\n",
       "    </tr>\n",
       "    <tr>\n",
       "      <th>4</th>\n",
       "      <td>0</td>\n",
       "      <td>248000</td>\n",
       "      <td>18.0</td>\n",
       "      <td>4</td>\n",
       "      <td>8</td>\n",
       "      <td>1</td>\n",
       "      <td>1</td>\n",
       "      <td>0</td>\n",
       "      <td>1</td>\n",
       "    </tr>\n",
       "  </tbody>\n",
       "</table>\n",
       "</div>"
      ],
      "text/plain": [
       "   company   price  diameter  topping  variant  size  extra_sauce  \\\n",
       "0        0  235000      22.0        2        8     1            1   \n",
       "1        0  198000      20.0        7        8     1            1   \n",
       "2        0  120000      16.0        5        8     4            1   \n",
       "3        0  155000      14.0        9        8     4            1   \n",
       "4        0  248000      18.0        4        8     1            1   \n",
       "\n",
       "   extra_cheese  extra_mushrooms  \n",
       "0             1                0  \n",
       "1             1                0  \n",
       "2             1                1  \n",
       "3             0                1  \n",
       "4             0                1  "
      ]
     },
     "execution_count": 113,
     "metadata": {},
     "output_type": "execute_result"
    }
   ],
   "source": [
    "data.head()"
   ]
  },
  {
   "cell_type": "markdown",
   "id": "f7b903d2",
   "metadata": {},
   "source": [
    "--------------\n",
    "# 13- Store feature matrix in X and response(target) in vector y."
   ]
  },
  {
   "cell_type": "code",
   "execution_count": 114,
   "id": "bac215df",
   "metadata": {},
   "outputs": [],
   "source": [
    "X = data.drop('price',axis=1)\n",
    "y = data['price']"
   ]
  },
  {
   "cell_type": "markdown",
   "id": "c3c9009a",
   "metadata": {},
   "source": [
    "---------\n",
    "# 14- Spliting the dataset into training set and testing set."
   ]
  },
  {
   "cell_type": "code",
   "execution_count": 115,
   "id": "6de1f673",
   "metadata": {},
   "outputs": [],
   "source": [
    "from sklearn.model_selection import train_test_split"
   ]
  },
  {
   "cell_type": "code",
   "execution_count": 117,
   "id": "c4fbba99",
   "metadata": {},
   "outputs": [],
   "source": [
    "X_train,X_test,y_train,y_test = train_test_split(X,y,test_size=0.2,random_state=42)"
   ]
  },
  {
   "cell_type": "markdown",
   "id": "99fe118a",
   "metadata": {},
   "source": [
    "----------\n",
    "# 15- Import models."
   ]
  },
  {
   "cell_type": "code",
   "execution_count": 118,
   "id": "5e309e4e",
   "metadata": {},
   "outputs": [],
   "source": [
    "from sklearn.linear_model import LinearRegression\n",
    "from sklearn.svm import SVR\n",
    "from sklearn.ensemble import RandomForestRegressor\n",
    "from sklearn.ensemble import GradientBoostingRegressor\n",
    "from xgboost import XGBRegressor"
   ]
  },
  {
   "cell_type": "markdown",
   "id": "8eadacc2",
   "metadata": {},
   "source": [
    "-----------\n",
    "# 16- Model training."
   ]
  },
  {
   "cell_type": "code",
   "execution_count": 133,
   "id": "8fecd8f0",
   "metadata": {},
   "outputs": [],
   "source": [
    "LG = LinearRegression().fit(X_train,y_train)\n",
    "SVM = SVR().fit(X_train,y_train)\n",
    "RFR = RandomForestRegressor().fit(X_train,y_train)\n",
    "GBR = GradientBoostingRegressor().fit(X_train,y_train)\n",
    "XGB = XGBRegressor().fit(X_train,y_train)"
   ]
  },
  {
   "cell_type": "markdown",
   "id": "d7b808a4",
   "metadata": {},
   "source": [
    "---------\n",
    "# 17- Predicting on test data."
   ]
  },
  {
   "cell_type": "code",
   "execution_count": 134,
   "id": "828f638f",
   "metadata": {},
   "outputs": [],
   "source": [
    "y_pred_LG = LG.predict(X_test)\n",
    "y_pred_SVM = SVM.predict(X_test)\n",
    "y_pred_RFR = RFR.predict(X_test)\n",
    "y_pred_GBR = GBR.predict(X_test)\n",
    "y_pred_XGB = XGB.predict(X_test)"
   ]
  },
  {
   "cell_type": "markdown",
   "id": "b970ff07",
   "metadata": {},
   "source": [
    "----------\n",
    "# 18- Evaluating the algorithm."
   ]
  },
  {
   "cell_type": "code",
   "execution_count": 122,
   "id": "4c0ea847",
   "metadata": {},
   "outputs": [],
   "source": [
    "from sklearn.metrics import r2_score"
   ]
  },
  {
   "cell_type": "code",
   "execution_count": 135,
   "id": "1851ec17",
   "metadata": {},
   "outputs": [],
   "source": [
    "LG_score = r2_score(y_test,y_pred_LG)\n",
    "SVM_score = r2_score(y_test,y_pred_SVM)\n",
    "RFR_score = r2_score(y_test,y_pred_RFR)\n",
    "GBR_score = r2_score(y_test,y_pred_GBR)\n",
    "XGB_score = r2_score(y_test,y_pred_XGB)"
   ]
  },
  {
   "cell_type": "code",
   "execution_count": 136,
   "id": "eb74aa80",
   "metadata": {},
   "outputs": [
    {
     "name": "stdout",
     "output_type": "stream",
     "text": [
      "0.6712827779795154 -0.09509798434366301 0.8295481009345909 0.8850440034269074 0.8917033255036354\n"
     ]
    }
   ],
   "source": [
    "print(LG_score,SVM_score,RFR_score,GBR_score,XGB_score)"
   ]
  },
  {
   "cell_type": "code",
   "execution_count": 137,
   "id": "3fe912a6",
   "metadata": {},
   "outputs": [
    {
     "data": {
      "text/html": [
       "<div>\n",
       "<style scoped>\n",
       "    .dataframe tbody tr th:only-of-type {\n",
       "        vertical-align: middle;\n",
       "    }\n",
       "\n",
       "    .dataframe tbody tr th {\n",
       "        vertical-align: top;\n",
       "    }\n",
       "\n",
       "    .dataframe thead th {\n",
       "        text-align: right;\n",
       "    }\n",
       "</style>\n",
       "<table border=\"1\" class=\"dataframe\">\n",
       "  <thead>\n",
       "    <tr style=\"text-align: right;\">\n",
       "      <th></th>\n",
       "      <th>Models</th>\n",
       "      <th>Accuracy</th>\n",
       "    </tr>\n",
       "  </thead>\n",
       "  <tbody>\n",
       "    <tr>\n",
       "      <th>4</th>\n",
       "      <td>XGB</td>\n",
       "      <td>0.891703</td>\n",
       "    </tr>\n",
       "    <tr>\n",
       "      <th>3</th>\n",
       "      <td>GBR</td>\n",
       "      <td>0.885044</td>\n",
       "    </tr>\n",
       "    <tr>\n",
       "      <th>2</th>\n",
       "      <td>RGR</td>\n",
       "      <td>0.829548</td>\n",
       "    </tr>\n",
       "    <tr>\n",
       "      <th>0</th>\n",
       "      <td>LG</td>\n",
       "      <td>0.671283</td>\n",
       "    </tr>\n",
       "    <tr>\n",
       "      <th>1</th>\n",
       "      <td>SVM</td>\n",
       "      <td>-0.095098</td>\n",
       "    </tr>\n",
       "  </tbody>\n",
       "</table>\n",
       "</div>"
      ],
      "text/plain": [
       "  Models  Accuracy\n",
       "4    XGB  0.891703\n",
       "3    GBR  0.885044\n",
       "2    RGR  0.829548\n",
       "0     LG  0.671283\n",
       "1    SVM -0.095098"
      ]
     },
     "execution_count": 137,
     "metadata": {},
     "output_type": "execute_result"
    }
   ],
   "source": [
    "final_data = pd.DataFrame({'Models':['LG','SVM','RGR','GBR','XGB'],\n",
    "                          'Accuracy':[LG_score,SVM_score,RFR_score,GBR_score,XGB_score]})\n",
    "final_data.sort_values(by='Accuracy',ascending=False)"
   ]
  },
  {
   "cell_type": "code",
   "execution_count": 131,
   "id": "79076a74",
   "metadata": {},
   "outputs": [
    {
     "data": {
      "text/plain": [
       "<AxesSubplot:xlabel='Models', ylabel='Accuracy'>"
      ]
     },
     "execution_count": 131,
     "metadata": {},
     "output_type": "execute_result"
    },
    {
     "data": {
      "image/png": "[encoded data removed]",
      "text/plain": [
       "<Figure size 432x288 with 1 Axes>"
      ]
     },
     "metadata": {
      "needs_background": "light"
     },
     "output_type": "display_data"
    }
   ],
   "source": [
    "sns.barplot(x=final_data['Models'],y=final_data['Accuracy'])"
   ]
  },
  {
   "cell_type": "markdown",
   "id": "b0405013",
   "metadata": {},
   "source": [
    "-------\n",
    "# 19- Find the feature importance."
   ]
  },
  {
   "cell_type": "markdown",
   "id": "b1874a9e",
   "metadata": {},
   "source": [
    "#### 1- Random Forest."
   ]
  },
  {
   "cell_type": "code",
   "execution_count": 138,
   "id": "920f83b5",
   "metadata": {},
   "outputs": [
    {
     "data": {
      "text/plain": [
       "array([0.03008074, 0.61668102, 0.03292452, 0.12097565, 0.16074046,\n",
       "       0.02318421, 0.0116936 , 0.0037198 ])"
      ]
     },
     "execution_count": 138,
     "metadata": {},
     "output_type": "execute_result"
    }
   ],
   "source": [
    "RFR.feature_importances_"
   ]
  },
  {
   "cell_type": "code",
   "execution_count": 144,
   "id": "84f62285",
   "metadata": {},
   "outputs": [],
   "source": [
    "fea_RFR = pd.Series(RFR.feature_importances_,index=X_train.columns)"
   ]
  },
  {
   "cell_type": "code",
   "execution_count": 146,
   "id": "3b4a5ae8",
   "metadata": {},
   "outputs": [
    {
     "data": {
      "image/png": "[encoded data removed]",
      "text/plain": [
       "<Figure size 432x288 with 1 Axes>"
      ]
     },
     "metadata": {
      "needs_background": "light"
     },
     "output_type": "display_data"
    }
   ],
   "source": [
    "fea_RFR.plot(kind='barh')\n",
    "plt.show()"
   ]
  },
  {
   "cell_type": "markdown",
   "id": "69de1681",
   "metadata": {},
   "source": [
    "#### 2- Gradient Boosting Regressor."
   ]
  },
  {
   "cell_type": "code",
   "execution_count": 143,
   "id": "bab22d8f",
   "metadata": {},
   "outputs": [
    {
     "data": {
      "text/plain": [
       "array([0.00694386, 0.63626538, 0.05249047, 0.10048259, 0.16294249,\n",
       "       0.03394016, 0.00364573, 0.00328931])"
      ]
     },
     "execution_count": 143,
     "metadata": {},
     "output_type": "execute_result"
    }
   ],
   "source": [
    "GBR.feature_importances_"
   ]
  },
  {
   "cell_type": "code",
   "execution_count": 147,
   "id": "dfc6d5af",
   "metadata": {},
   "outputs": [],
   "source": [
    "fea_GBR = pd.Series(GBR.feature_importances_,index=X_train.columns)"
   ]
  },
  {
   "cell_type": "code",
   "execution_count": 148,
   "id": "927c4655",
   "metadata": {},
   "outputs": [
    {
     "data": {
      "image/png": "[encoded data removed]",
      "text/plain": [
       "<Figure size 432x288 with 1 Axes>"
      ]
     },
     "metadata": {
      "needs_background": "light"
     },
     "output_type": "display_data"
    }
   ],
   "source": [
    "fea_GBR.plot(kind='barh')\n",
    "plt.show()"
   ]
  },
  {
   "cell_type": "markdown",
   "id": "113a79cd",
   "metadata": {},
   "source": [
    "#### 3- XGBRegressor."
   ]
  },
  {
   "cell_type": "code",
   "execution_count": 149,
   "id": "823497f8",
   "metadata": {},
   "outputs": [
    {
     "data": {
      "text/plain": [
       "array([0.00327828, 0.42463964, 0.02003679, 0.04037103, 0.4036423 ,\n",
       "       0.08753515, 0.01517959, 0.00531718], dtype=float32)"
      ]
     },
     "execution_count": 149,
     "metadata": {},
     "output_type": "execute_result"
    }
   ],
   "source": [
    "XGB.feature_importances_"
   ]
  },
  {
   "cell_type": "code",
   "execution_count": 150,
   "id": "9e0ef64a",
   "metadata": {},
   "outputs": [],
   "source": [
    "fea_XGB = pd.Series(XGB.feature_importances_,index=X_train.columns)"
   ]
  },
  {
   "cell_type": "code",
   "execution_count": 151,
   "id": "33d92a52",
   "metadata": {},
   "outputs": [
    {
     "data": {
      "image/png": "[encoded data removed]",
      "text/plain": [
       "<Figure size 432x288 with 1 Axes>"
      ]
     },
     "metadata": {
      "needs_background": "light"
     },
     "output_type": "display_data"
    }
   ],
   "source": [
    "fea_XGB.plot(kind='barh')\n",
    "plt.show()"
   ]
  },
  {
   "cell_type": "markdown",
   "id": "9b69a1b2",
   "metadata": {},
   "source": [
    "-----------\n",
    "# 20- Build the final model."
   ]
  },
  {
   "cell_type": "code",
   "execution_count": 152,
   "id": "e87f677a",
   "metadata": {},
   "outputs": [],
   "source": [
    "X = data.drop('price',axis=1)\n",
    "y = data['price']"
   ]
  },
  {
   "cell_type": "code",
   "execution_count": 153,
   "id": "b27629c4",
   "metadata": {},
   "outputs": [
    {
     "data": {
      "text/html": [
       "<style>#sk-container-id-1 {color: black;background-color: white;}#sk-container-id-1 pre{padding: 0;}#sk-container-id-1 div.sk-toggleable {background-color: white;}#sk-container-id-1 label.sk-toggleable__label {cursor: pointer;display: block;width: 100%;margin-bottom: 0;padding: 0.3em;box-sizing: border-box;text-align: center;}#sk-container-id-1 label.sk-toggleable__label-arrow:before {content: \"▸\";float: left;margin-right: 0.25em;color: #696969;}#sk-container-id-1 label.sk-toggleable__label-arrow:hover:before {color: black;}#sk-container-id-1 div.sk-estimator:hover label.sk-toggleable__label-arrow:before {color: black;}#sk-container-id-1 div.sk-toggleable__content {max-height: 0;max-width: 0;overflow: hidden;text-align: left;background-color: #f0f8ff;}#sk-container-id-1 div.sk-toggleable__content pre {margin: 0.2em;color: black;border-radius: 0.25em;background-color: #f0f8ff;}#sk-container-id-1 input.sk-toggleable__control:checked~div.sk-toggleable__content {max-height: 200px;max-width: 100%;overflow: auto;}#sk-container-id-1 input.sk-toggleable__control:checked~label.sk-toggleable__label-arrow:before {content: \"▾\";}#sk-container-id-1 div.sk-estimator input.sk-toggleable__control:checked~label.sk-toggleable__label {background-color: #d4ebff;}#sk-container-id-1 div.sk-label input.sk-toggleable__control:checked~label.sk-toggleable__label {background-color: #d4ebff;}#sk-container-id-1 input.sk-hidden--visually {border: 0;clip: rect(1px 1px 1px 1px);clip: rect(1px, 1px, 1px, 1px);height: 1px;margin: -1px;overflow: hidden;padding: 0;position: absolute;width: 1px;}#sk-container-id-1 div.sk-estimator {font-family: monospace;background-color: #f0f8ff;border: 1px dotted black;border-radius: 0.25em;box-sizing: border-box;margin-bottom: 0.5em;}#sk-container-id-1 div.sk-estimator:hover {background-color: #d4ebff;}#sk-container-id-1 div.sk-parallel-item::after {content: \"\";width: 100%;border-bottom: 1px solid gray;flex-grow: 1;}#sk-container-id-1 div.sk-label:hover label.sk-toggleable__label {background-color: #d4ebff;}#sk-container-id-1 div.sk-serial::before {content: \"\";position: absolute;border-left: 1px solid gray;box-sizing: border-box;top: 0;bottom: 0;left: 50%;z-index: 0;}#sk-container-id-1 div.sk-serial {display: flex;flex-direction: column;align-items: center;background-color: white;padding-right: 0.2em;padding-left: 0.2em;position: relative;}#sk-container-id-1 div.sk-item {position: relative;z-index: 1;}#sk-container-id-1 div.sk-parallel {display: flex;align-items: stretch;justify-content: center;background-color: white;position: relative;}#sk-container-id-1 div.sk-item::before, #sk-container-id-1 div.sk-parallel-item::before {content: \"\";position: absolute;border-left: 1px solid gray;box-sizing: border-box;top: 0;bottom: 0;left: 50%;z-index: -1;}#sk-container-id-1 div.sk-parallel-item {display: flex;flex-direction: column;z-index: 1;position: relative;background-color: white;}#sk-container-id-1 div.sk-parallel-item:first-child::after {align-self: flex-end;width: 50%;}#sk-container-id-1 div.sk-parallel-item:last-child::after {align-self: flex-start;width: 50%;}#sk-container-id-1 div.sk-parallel-item:only-child::after {width: 0;}#sk-container-id-1 div.sk-dashed-wrapped {border: 1px dashed gray;margin: 0 0.4em 0.5em 0.4em;box-sizing: border-box;padding-bottom: 0.4em;background-color: white;}#sk-container-id-1 div.sk-label label {font-family: monospace;font-weight: bold;display: inline-block;line-height: 1.2em;}#sk-container-id-1 div.sk-label-container {text-align: center;}#sk-container-id-1 div.sk-container {/* jupyter's `normalize.less` sets `[hidden] { display: none; }` but bootstrap.min.css set `[hidden] { display: none !important; }` so we also need the `!important` here to be able to override the default hidden behavior on the sphinx rendered scikit-learn.org. See: https://github.com/scikit-learn/scikit-learn/issues/21755 */display: inline-block !important;position: relative;}#sk-container-id-1 div.sk-text-repr-fallback {display: none;}</style><div id=\"sk-container-id-1\" class=\"sk-top-container\"><div class=\"sk-text-repr-fallback\"><pre>XGBRegressor(base_score=0.5, booster=&#x27;gbtree&#x27;, callbacks=None,\n",
       "             colsample_bylevel=1, colsample_bynode=1, colsample_bytree=1,\n",
       "             early_stopping_rounds=None, enable_categorical=False,\n",
       "             eval_metric=None, gamma=0, gpu_id=-1, grow_policy=&#x27;depthwise&#x27;,\n",
       "             importance_type=None, interaction_constraints=&#x27;&#x27;,\n",
       "             learning_rate=0.300000012, max_bin=256, max_cat_to_onehot=4,\n",
       "             max_delta_step=0, max_depth=6, max_leaves=0, min_child_weight=1,\n",
       "             missing=nan, monotone_constraints=&#x27;()&#x27;, n_estimators=100, n_jobs=0,\n",
       "             num_parallel_tree=1, predictor=&#x27;auto&#x27;, random_state=0, reg_alpha=0,\n",
       "             reg_lambda=1, ...)</pre><b>In a Jupyter environment, please rerun this cell to show the HTML representation or trust the notebook. <br />On GitHub, the HTML representation is unable to render, please try loading this page with nbviewer.org.</b></div><div class=\"sk-container\" hidden><div class=\"sk-item\"><div class=\"sk-estimator sk-toggleable\"><input class=\"sk-toggleable__control sk-hidden--visually\" id=\"sk-estimator-id-1\" type=\"checkbox\" checked><label for=\"sk-estimator-id-1\" class=\"sk-toggleable__label sk-toggleable__label-arrow\">XGBRegressor</label><div class=\"sk-toggleable__content\"><pre>XGBRegressor(base_score=0.5, booster=&#x27;gbtree&#x27;, callbacks=None,\n",
       "             colsample_bylevel=1, colsample_bynode=1, colsample_bytree=1,\n",
       "             early_stopping_rounds=None, enable_categorical=False,\n",
       "             eval_metric=None, gamma=0, gpu_id=-1, grow_policy=&#x27;depthwise&#x27;,\n",
       "             importance_type=None, interaction_constraints=&#x27;&#x27;,\n",
       "             learning_rate=0.300000012, max_bin=256, max_cat_to_onehot=4,\n",
       "             max_delta_step=0, max_depth=6, max_leaves=0, min_child_weight=1,\n",
       "             missing=nan, monotone_constraints=&#x27;()&#x27;, n_estimators=100, n_jobs=0,\n",
       "             num_parallel_tree=1, predictor=&#x27;auto&#x27;, random_state=0, reg_alpha=0,\n",
       "             reg_lambda=1, ...)</pre></div></div></div></div></div>"
      ],
      "text/plain": [
       "XGBRegressor(base_score=0.5, booster='gbtree', callbacks=None,\n",
       "             colsample_bylevel=1, colsample_bynode=1, colsample_bytree=1,\n",
       "             early_stopping_rounds=None, enable_categorical=False,\n",
       "             eval_metric=None, gamma=0, gpu_id=-1, grow_policy='depthwise',\n",
       "             importance_type=None, interaction_constraints='',\n",
       "             learning_rate=0.300000012, max_bin=256, max_cat_to_onehot=4,\n",
       "             max_delta_step=0, max_depth=6, max_leaves=0, min_child_weight=1,\n",
       "             missing=nan, monotone_constraints='()', n_estimators=100, n_jobs=0,\n",
       "             num_parallel_tree=1, predictor='auto', random_state=0, reg_alpha=0,\n",
       "             reg_lambda=1, ...)"
      ]
     },
     "execution_count": 153,
     "metadata": {},
     "output_type": "execute_result"
    }
   ],
   "source": [
    "XGB.fit(X,y)"
   ]
  },
  {
   "cell_type": "markdown",
   "id": "4e5789e9",
   "metadata": {},
   "source": [
    "--------\n",
    "# 21- Saving model."
   ]
  },
  {
   "cell_type": "code",
   "execution_count": 154,
   "id": "847617f0",
   "metadata": {},
   "outputs": [],
   "source": [
    "import joblib"
   ]
  },
  {
   "cell_type": "code",
   "execution_count": 155,
   "id": "eb5ff3a5",
   "metadata": {},
   "outputs": [
    {
     "data": {
      "text/plain": [
       "['Pizza_Price_predict']"
      ]
     },
     "execution_count": 155,
     "metadata": {},
     "output_type": "execute_result"
    }
   ],
   "source": [
    "joblib.dump(XGB,'Pizza_Price_predict')"
   ]
  },
  {
   "cell_type": "code",
   "execution_count": 156,
   "id": "55f07abb",
   "metadata": {},
   "outputs": [],
   "source": [
    "model = joblib.load('Pizza_Price_predict')"
   ]
  },
  {
   "cell_type": "code",
   "execution_count": 160,
   "id": "e5c269ee",
   "metadata": {},
   "outputs": [],
   "source": [
    "df = pd.DataFrame({'company':1,'diameter':22.0,'topping':2,'variant':8,\n",
    "                  'size':1,'extra_sauce':1,'extra_cheese':1,'extra_mushrooms':1},index=[0])"
   ]
  },
  {
   "cell_type": "code",
   "execution_count": 161,
   "id": "51cc8e93",
   "metadata": {},
   "outputs": [
    {
     "data": {
      "text/plain": [
       "array([224951.7], dtype=float32)"
      ]
     },
     "execution_count": 161,
     "metadata": {},
     "output_type": "execute_result"
    }
   ],
   "source": [
    "model.predict(df)"
   ]
  },
  {
   "cell_type": "markdown",
   "id": "b5a2c279",
   "metadata": {},
   "source": [
    "-------------\n",
    "# 22- GUI."
   ]
  },
  {
   "cell_type": "code",
   "execution_count": 162,
   "id": "a3f8cff0",
   "metadata": {},
   "outputs": [],
   "source": [
    "import joblib\n",
    "from tkinter import *"
   ]
  },
  {
   "cell_type": "code",
   "execution_count": 171,
   "id": "b85cdb60",
   "metadata": {},
   "outputs": [],
   "source": [
    "def show_entry():\n",
    "    p1 = int(e1.get())\n",
    "    p2 = float(e2.get())\n",
    "    p3 = int(e3.get())\n",
    "    p4 = int(e4.get())\n",
    "    p5 = int(e5.get())\n",
    "    p6 = int(e6.get())\n",
    "    p7 = int(e7.get())\n",
    "    p8 = int(e8.get())\n",
    "    model = joblib.load('Pizza_Price_predict')\n",
    "    df = pd.DataFrame({'company':p1,'diameter':p2,'topping':p3,'variant':p4,\n",
    "                  'size':p5,'extra_sauce':p6,'extra_cheese':p7,'extra_mushrooms':p8},index=[0])\n",
    "    result = model.predict(df)\n",
    "    Label(master,text=result).grid(row=9)\n",
    "\n",
    "master = Tk()\n",
    "master.title('Pizza Price Prediction')\n",
    "label = Label(master,text='Pizza Price Prediction',bg='blue',fg='white').grid(row=0,columnspan=2)\n",
    "\n",
    "Label(master,text='Enter company').grid(row=1)\n",
    "Label(master,text='Enter diameter').grid(row=2)\n",
    "Label(master,text='Enter topping').grid(row=3)\n",
    "Label(master,text='Enter variant').grid(row=4)\n",
    "Label(master,text='Enter size of pizza').grid(row=5)\n",
    "Label(master,text='Extra_sauce or No [1/0]').grid(row=6)\n",
    "Label(master,text='Extra_cheese or No [1/0]').grid(row=7)\n",
    "Label(master,text='Extra_mushrooms or No [1/0]').grid(row=8)\n",
    "\n",
    "e1 = Entry(master)\n",
    "e2 = Entry(master)\n",
    "e3 = Entry(master)\n",
    "e4 = Entry(master)\n",
    "e5 = Entry(master)\n",
    "e6 = Entry(master)\n",
    "e7 = Entry(master)\n",
    "e8 = Entry(master)\n",
    "\n",
    "e1.grid(row=1,column=1)\n",
    "e2.grid(row=2,column=1)\n",
    "e3.grid(row=3,column=1)\n",
    "e4.grid(row=4,column=1)\n",
    "e5.grid(row=5,column=1)\n",
    "e6.grid(row=6,column=1)\n",
    "e7.grid(row=7,column=1)\n",
    "e8.grid(row=8,column=1)\n",
    "\n",
    "Button(master,text='Predict',command=show_entry).grid()\n",
    "mainloop()"
   ]
  },
  {
   "cell_type": "code",
   "execution_count": 167,
   "id": "021d2848",
   "metadata": {},
   "outputs": [
    {
     "data": {
      "text/html": [
       "<div>\n",
       "<style scoped>\n",
       "    .dataframe tbody tr th:only-of-type {\n",
       "        vertical-align: middle;\n",
       "    }\n",
       "\n",
       "    .dataframe tbody tr th {\n",
       "        vertical-align: top;\n",
       "    }\n",
       "\n",
       "    .dataframe thead th {\n",
       "        text-align: right;\n",
       "    }\n",
       "</style>\n",
       "<table border=\"1\" class=\"dataframe\">\n",
       "  <thead>\n",
       "    <tr style=\"text-align: right;\">\n",
       "      <th></th>\n",
       "      <th>company</th>\n",
       "      <th>price</th>\n",
       "      <th>diameter</th>\n",
       "      <th>topping</th>\n",
       "      <th>variant</th>\n",
       "      <th>size</th>\n",
       "      <th>extra_sauce</th>\n",
       "      <th>extra_cheese</th>\n",
       "      <th>extra_mushrooms</th>\n",
       "    </tr>\n",
       "  </thead>\n",
       "  <tbody>\n",
       "    <tr>\n",
       "      <th>0</th>\n",
       "      <td>0</td>\n",
       "      <td>235000</td>\n",
       "      <td>22.0</td>\n",
       "      <td>2</td>\n",
       "      <td>8</td>\n",
       "      <td>1</td>\n",
       "      <td>1</td>\n",
       "      <td>1</td>\n",
       "      <td>0</td>\n",
       "    </tr>\n",
       "    <tr>\n",
       "      <th>1</th>\n",
       "      <td>0</td>\n",
       "      <td>198000</td>\n",
       "      <td>20.0</td>\n",
       "      <td>7</td>\n",
       "      <td>8</td>\n",
       "      <td>1</td>\n",
       "      <td>1</td>\n",
       "      <td>1</td>\n",
       "      <td>0</td>\n",
       "    </tr>\n",
       "    <tr>\n",
       "      <th>2</th>\n",
       "      <td>0</td>\n",
       "      <td>120000</td>\n",
       "      <td>16.0</td>\n",
       "      <td>5</td>\n",
       "      <td>8</td>\n",
       "      <td>4</td>\n",
       "      <td>1</td>\n",
       "      <td>1</td>\n",
       "      <td>1</td>\n",
       "    </tr>\n",
       "    <tr>\n",
       "      <th>3</th>\n",
       "      <td>0</td>\n",
       "      <td>155000</td>\n",
       "      <td>14.0</td>\n",
       "      <td>9</td>\n",
       "      <td>8</td>\n",
       "      <td>4</td>\n",
       "      <td>1</td>\n",
       "      <td>0</td>\n",
       "      <td>1</td>\n",
       "    </tr>\n",
       "    <tr>\n",
       "      <th>4</th>\n",
       "      <td>0</td>\n",
       "      <td>248000</td>\n",
       "      <td>18.0</td>\n",
       "      <td>4</td>\n",
       "      <td>8</td>\n",
       "      <td>1</td>\n",
       "      <td>1</td>\n",
       "      <td>0</td>\n",
       "      <td>1</td>\n",
       "    </tr>\n",
       "    <tr>\n",
       "      <th>...</th>\n",
       "      <td>...</td>\n",
       "      <td>...</td>\n",
       "      <td>...</td>\n",
       "      <td>...</td>\n",
       "      <td>...</td>\n",
       "      <td>...</td>\n",
       "      <td>...</td>\n",
       "      <td>...</td>\n",
       "      <td>...</td>\n",
       "    </tr>\n",
       "    <tr>\n",
       "      <th>124</th>\n",
       "      <td>4</td>\n",
       "      <td>39000</td>\n",
       "      <td>8.5</td>\n",
       "      <td>10</td>\n",
       "      <td>16</td>\n",
       "      <td>5</td>\n",
       "      <td>1</td>\n",
       "      <td>1</td>\n",
       "      <td>1</td>\n",
       "    </tr>\n",
       "    <tr>\n",
       "      <th>125</th>\n",
       "      <td>4</td>\n",
       "      <td>72000</td>\n",
       "      <td>12.0</td>\n",
       "      <td>10</td>\n",
       "      <td>16</td>\n",
       "      <td>3</td>\n",
       "      <td>1</td>\n",
       "      <td>1</td>\n",
       "      <td>1</td>\n",
       "    </tr>\n",
       "    <tr>\n",
       "      <th>126</th>\n",
       "      <td>4</td>\n",
       "      <td>99000</td>\n",
       "      <td>14.0</td>\n",
       "      <td>10</td>\n",
       "      <td>16</td>\n",
       "      <td>2</td>\n",
       "      <td>1</td>\n",
       "      <td>1</td>\n",
       "      <td>1</td>\n",
       "    </tr>\n",
       "    <tr>\n",
       "      <th>127</th>\n",
       "      <td>4</td>\n",
       "      <td>44000</td>\n",
       "      <td>8.5</td>\n",
       "      <td>3</td>\n",
       "      <td>0</td>\n",
       "      <td>5</td>\n",
       "      <td>1</td>\n",
       "      <td>0</td>\n",
       "      <td>1</td>\n",
       "    </tr>\n",
       "    <tr>\n",
       "      <th>128</th>\n",
       "      <td>4</td>\n",
       "      <td>78000</td>\n",
       "      <td>12.0</td>\n",
       "      <td>3</td>\n",
       "      <td>0</td>\n",
       "      <td>3</td>\n",
       "      <td>0</td>\n",
       "      <td>0</td>\n",
       "      <td>1</td>\n",
       "    </tr>\n",
       "  </tbody>\n",
       "</table>\n",
       "<p>125 rows × 9 columns</p>\n",
       "</div>"
      ],
      "text/plain": [
       "     company   price  diameter  topping  variant  size  extra_sauce  \\\n",
       "0          0  235000      22.0        2        8     1            1   \n",
       "1          0  198000      20.0        7        8     1            1   \n",
       "2          0  120000      16.0        5        8     4            1   \n",
       "3          0  155000      14.0        9        8     4            1   \n",
       "4          0  248000      18.0        4        8     1            1   \n",
       "..       ...     ...       ...      ...      ...   ...          ...   \n",
       "124        4   39000       8.5       10       16     5            1   \n",
       "125        4   72000      12.0       10       16     3            1   \n",
       "126        4   99000      14.0       10       16     2            1   \n",
       "127        4   44000       8.5        3        0     5            1   \n",
       "128        4   78000      12.0        3        0     3            0   \n",
       "\n",
       "     extra_cheese  extra_mushrooms  \n",
       "0               1                0  \n",
       "1               1                0  \n",
       "2               1                1  \n",
       "3               0                1  \n",
       "4               0                1  \n",
       "..            ...              ...  \n",
       "124             1                1  \n",
       "125             1                1  \n",
       "126             1                1  \n",
       "127             0                1  \n",
       "128             0                1  \n",
       "\n",
       "[125 rows x 9 columns]"
      ]
     },
     "execution_count": 167,
     "metadata": {},
     "output_type": "execute_result"
    }
   ],
   "source": [
    "data"
   ]
  },
  {
   "cell_type": "code",
   "execution_count": null,
   "id": "b3fdb82c",
   "metadata": {},
   "outputs": [],
   "source": []
  }
 ],
 "metadata": {
  "kernelspec": {
   "display_name": "Python 3 (ipykernel)",
   "language": "python",
   "name": "python3"
  },
  "language_info": {
   "codemirror_mode": {
    "name": "ipython",
    "version": 3
   },
   "file_extension": ".py",
   "mimetype": "text/x-python",
   "name": "python",
   "nbconvert_exporter": "python",
   "pygments_lexer": "ipython3",
   "version": "3.9.12"
  }
 },
 "nbformat": 4,
 "nbformat_minor": 5
}
